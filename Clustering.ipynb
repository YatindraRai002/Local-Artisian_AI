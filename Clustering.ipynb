{
  "cells": [
    {
      "cell_type": "code",
      "execution_count": 3,
      "metadata": {
        "colab": {
          "base_uri": "https://localhost:8080/",
          "height": 304
        },
        "id": "67c82226",
        "outputId": "bb71231d-c060-49dd-9992-70019f03e861"
      },
      "outputs": [
        {
          "data": {
            "text/html": [
              "<div>\n",
              "<style scoped>\n",
              "    .dataframe tbody tr th:only-of-type {\n",
              "        vertical-align: middle;\n",
              "    }\n",
              "\n",
              "    .dataframe tbody tr th {\n",
              "        vertical-align: top;\n",
              "    }\n",
              "\n",
              "    .dataframe thead th {\n",
              "        text-align: right;\n",
              "    }\n",
              "</style>\n",
              "<table border=\"1\" class=\"dataframe\">\n",
              "  <thead>\n",
              "    <tr style=\"text-align: right;\">\n",
              "      <th></th>\n",
              "      <th>artisan_id</th>\n",
              "      <th>name</th>\n",
              "      <th>gender</th>\n",
              "      <th>age</th>\n",
              "      <th>craft_type</th>\n",
              "      <th>state</th>\n",
              "      <th>district</th>\n",
              "      <th>village</th>\n",
              "      <th>languages_spoken</th>\n",
              "      <th>contact_email</th>\n",
              "      <th>contact_phone</th>\n",
              "      <th>contact_phone_boolean</th>\n",
              "      <th>govt_artisan_id</th>\n",
              "      <th>artisan_cluster_code</th>\n",
              "    </tr>\n",
              "  </thead>\n",
              "  <tbody>\n",
              "    <tr>\n",
              "      <th>0</th>\n",
              "      <td>1</td>\n",
              "      <td>Anika Bhagat</td>\n",
              "      <td>Male</td>\n",
              "      <td>27</td>\n",
              "      <td>Carpet Weaving</td>\n",
              "      <td>Uttar Pradesh</td>\n",
              "      <td>Varanasi</td>\n",
              "      <td>Amritsar</td>\n",
              "      <td>English, Hindi</td>\n",
              "      <td>anikabhagat4017@handmade.in</td>\n",
              "      <td>916703000000</td>\n",
              "      <td>Yes</td>\n",
              "      <td>ODOP-2025-UT-00001</td>\n",
              "      <td>CL-VAR-CAR-001</td>\n",
              "    </tr>\n",
              "    <tr>\n",
              "      <th>1</th>\n",
              "      <td>2</td>\n",
              "      <td>Jayant Krishnamurthy</td>\n",
              "      <td>Male</td>\n",
              "      <td>47</td>\n",
              "      <td>Channapatna Toys</td>\n",
              "      <td>Uttar Pradesh</td>\n",
              "      <td>Kanpur</td>\n",
              "      <td>Deoghar</td>\n",
              "      <td>English, Hindi</td>\n",
              "      <td>jayantkrishnamurthy9395@mail.com</td>\n",
              "      <td>918048000000</td>\n",
              "      <td>Yes</td>\n",
              "      <td>KVIC-2025-UT-00002</td>\n",
              "      <td>CL-KAN-CHA-002</td>\n",
              "    </tr>\n",
              "    <tr>\n",
              "      <th>2</th>\n",
              "      <td>3</td>\n",
              "      <td>Tanya Keer</td>\n",
              "      <td>Other</td>\n",
              "      <td>40</td>\n",
              "      <td>Shell Craft</td>\n",
              "      <td>Bihar</td>\n",
              "      <td>Patna</td>\n",
              "      <td>Bihar Sharif</td>\n",
              "      <td>Hindi, Manipuri</td>\n",
              "      <td>tanyakeer9774@example.com</td>\n",
              "      <td>919823000000</td>\n",
              "      <td>Yes</td>\n",
              "      <td>KVIC-2025-BI-00003</td>\n",
              "      <td>CL-PAT-SHE-003</td>\n",
              "    </tr>\n",
              "    <tr>\n",
              "      <th>3</th>\n",
              "      <td>4</td>\n",
              "      <td>Saira Lata</td>\n",
              "      <td>Other</td>\n",
              "      <td>22</td>\n",
              "      <td>Kalamkari</td>\n",
              "      <td>Kerala</td>\n",
              "      <td>Alappuzha</td>\n",
              "      <td>Rajpur Sonarpur</td>\n",
              "      <td>English</td>\n",
              "      <td>sairalata1201@mail.com</td>\n",
              "      <td>919106000000</td>\n",
              "      <td>Yes</td>\n",
              "      <td>PMV-2025-KE-00004</td>\n",
              "      <td>CL-ALA-KAL-004</td>\n",
              "    </tr>\n",
              "    <tr>\n",
              "      <th>4</th>\n",
              "      <td>5</td>\n",
              "      <td>Zeeshan Saha</td>\n",
              "      <td>Male</td>\n",
              "      <td>32</td>\n",
              "      <td>Pottery</td>\n",
              "      <td>Tamil Nadu</td>\n",
              "      <td>Kanchipuram</td>\n",
              "      <td>Dhule</td>\n",
              "      <td>Bengali, English</td>\n",
              "      <td>zeeshansaha4714@crafts.in</td>\n",
              "      <td>918125000000</td>\n",
              "      <td>No</td>\n",
              "      <td>KVIC-2025-TA-00005</td>\n",
              "      <td>CL-KAN-POT-005</td>\n",
              "    </tr>\n",
              "  </tbody>\n",
              "</table>\n",
              "</div>"
            ],
            "text/plain": [
              "   artisan_id                  name gender  age        craft_type  \\\n",
              "0           1          Anika Bhagat   Male   27    Carpet Weaving   \n",
              "1           2  Jayant Krishnamurthy   Male   47  Channapatna Toys   \n",
              "2           3            Tanya Keer  Other   40       Shell Craft   \n",
              "3           4            Saira Lata  Other   22         Kalamkari   \n",
              "4           5          Zeeshan Saha   Male   32           Pottery   \n",
              "\n",
              "           state     district          village  languages_spoken  \\\n",
              "0  Uttar Pradesh     Varanasi         Amritsar    English, Hindi   \n",
              "1  Uttar Pradesh       Kanpur          Deoghar    English, Hindi   \n",
              "2          Bihar        Patna     Bihar Sharif   Hindi, Manipuri   \n",
              "3         Kerala    Alappuzha  Rajpur Sonarpur           English   \n",
              "4     Tamil Nadu  Kanchipuram            Dhule  Bengali, English   \n",
              "\n",
              "                      contact_email  contact_phone contact_phone_boolean  \\\n",
              "0       anikabhagat4017@handmade.in   916703000000                   Yes   \n",
              "1  jayantkrishnamurthy9395@mail.com   918048000000                   Yes   \n",
              "2         tanyakeer9774@example.com   919823000000                   Yes   \n",
              "3            sairalata1201@mail.com   919106000000                   Yes   \n",
              "4         zeeshansaha4714@crafts.in   918125000000                    No   \n",
              "\n",
              "      govt_artisan_id artisan_cluster_code  \n",
              "0  ODOP-2025-UT-00001       CL-VAR-CAR-001  \n",
              "1  KVIC-2025-UT-00002       CL-KAN-CHA-002  \n",
              "2  KVIC-2025-BI-00003       CL-PAT-SHE-003  \n",
              "3   PMV-2025-KE-00004       CL-ALA-KAL-004  \n",
              "4  KVIC-2025-TA-00005       CL-KAN-POT-005  "
            ]
          },
          "metadata": {},
          "output_type": "display_data"
        }
      ],
      "source": [
        "import pandas as pd\n",
        "\n",
        "df = pd.read_excel('Artisans.csv.xlsx')\n",
        "display(df.head())"
      ]
    },
    {
      "cell_type": "code",
      "execution_count": 4,
      "metadata": {
        "colab": {
          "base_uri": "https://localhost:8080/"
        },
        "id": "2WEk_8xpMTZb",
        "outputId": "88fee7fc-4213-47b0-da12-1f60a810663b"
      },
      "outputs": [
        {
          "data": {
            "text/plain": [
              "array(['Carpet Weaving', 'Channapatna Toys', 'Shell Craft', 'Kalamkari',\n",
              "       'Pottery', 'Rogan Art', 'Handloom Weaving', 'Sikki Grass',\n",
              "       'Blue Pottery', 'Bamboo & Cane', 'Tanjore Painting', 'Chikankari',\n",
              "       'Leather Craft', 'Terracotta', 'Bidriware', 'Lac Work',\n",
              "       'Block Printing', 'Jute Craft', 'Metalwork', 'Dokra (Bell Metal)',\n",
              "       'Pattachitra', 'Wood Carving', 'Madhubani Painting',\n",
              "       'Thanjavur Dolls', 'Banarasi Weaving', 'Zari/Zardozi',\n",
              "       'Silver Filigree', 'Warli Painting', 'Bandhani Tie-Dye',\n",
              "       'Coir Craft', 'Kutch Embroidery', 'Phulkari', 'Durrie Weaving',\n",
              "       'Stone Carving', 'Kundan Jewellery', 'Black Pottery',\n",
              "       'Paper Mache', 'Sandalwood Carving'], dtype=object)"
            ]
          },
          "execution_count": 4,
          "metadata": {},
          "output_type": "execute_result"
        }
      ],
      "source": [
        "df.craft_type.unique()"
      ]
    },
    {
      "cell_type": "code",
      "execution_count": 5,
      "metadata": {
        "colab": {
          "base_uri": "https://localhost:8080/"
        },
        "id": "lGi5qa2EO5m3",
        "outputId": "095cf5f9-e750-4221-932d-c60e1c5519bc"
      },
      "outputs": [
        {
          "data": {
            "text/plain": [
              "['Bamboo & Cane',\n",
              " 'Banarasi Weaving',\n",
              " 'Bandhani Tie-Dye',\n",
              " 'Bidriware',\n",
              " 'Black Pottery',\n",
              " 'Block Printing',\n",
              " 'Blue Pottery',\n",
              " 'Carpet Weaving',\n",
              " 'Channapatna Toys',\n",
              " 'Chikankari']"
            ]
          },
          "execution_count": 5,
          "metadata": {},
          "output_type": "execute_result"
        }
      ],
      "source": [
        "unique_crafts = sorted(df[\"craft_type\"].unique())\n",
        "unique_crafts[:10]\n"
      ]
    },
    {
      "cell_type": "code",
      "execution_count": 6,
      "metadata": {
        "id": "IRIbL86HPMBV"
      },
      "outputs": [],
      "source": [
        "\n",
        "def get_artisans_by_craft(craft):\n",
        "    return df[df[\"craft_type\"] == craft][[\"name\", \"state\", \"district\", \"village\"]]\n"
      ]
    },
    {
      "cell_type": "code",
      "execution_count": 7,
      "metadata": {
        "colab": {
          "base_uri": "https://localhost:8080/",
          "height": 445,
          "referenced_widgets": [
            "94802038516247a296d80a776f826f8d",
            "ad9b4328985a4fb8858754963692ef87",
            "ed94c02472404a01b85bd758d8ef407a",
            "05072cb0e4f14493a9ff9830513609fd",
            "57d6af14edeb4763b81002174cae0d93"
          ]
        },
        "id": "cCqZ4h1nO01f",
        "outputId": "75b253e2-4e14-4fd4-d648-7ca87bd3128d"
      },
      "outputs": [
        {
          "data": {
            "application/vnd.jupyter.widget-view+json": {
              "model_id": "9d5bcac9b1564c5cafabc97fc2d4dac8",
              "version_major": 2,
              "version_minor": 0
            },
            "text/plain": [
              "Dropdown(description='Craft:', options=('Bamboo & Cane', 'Banarasi Weaving', 'Bandhani Tie-Dye', 'Bidriware', …"
            ]
          },
          "metadata": {},
          "output_type": "display_data"
        },
        {
          "data": {
            "application/vnd.jupyter.widget-view+json": {
              "model_id": "fc800dd743c24c238448d1fbf1866aec",
              "version_major": 2,
              "version_minor": 0
            },
            "text/plain": [
              "Output()"
            ]
          },
          "metadata": {},
          "output_type": "display_data"
        }
      ],
      "source": [
        "import ipywidgets as widgets\n",
        "from IPython.display import display\n",
        "\n",
        "dropdown = widgets.Dropdown(\n",
        "    options=unique_crafts,\n",
        "    description=\"Craft:\",\n",
        "    style={'description_width': 'initial'}\n",
        ")\n",
        "\n",
        "output = widgets.Output()\n",
        "\n",
        "def on_change(change):\n",
        "    if change['type'] == 'change' and change['name'] == 'value':\n",
        "        with output:\n",
        "            output.clear_output()\n",
        "            display(get_artisans_by_craft(change['new']))\n",
        "\n",
        "dropdown.observe(on_change)\n",
        "\n",
        "display(dropdown, output)\n"
      ]
    },
    {
      "cell_type": "code",
      "execution_count": null,
      "metadata": {},
      "outputs": [],
      "source": []
    }
  ],
  "metadata": {
    "colab": {
      "provenance": []
    },
    "kernelspec": {
      "display_name": "Python 3",
      "name": "python3"
    },
    "language_info": {
      "codemirror_mode": {
        "name": "ipython",
        "version": 3
      },
      "file_extension": ".py",
      "mimetype": "text/x-python",
      "name": "python",
      "nbconvert_exporter": "python",
      "pygments_lexer": "ipython3",
      "version": "3.13.0"
    },
    "widgets": {
      "application/vnd.jupyter.widget-state+json": {
        "05072cb0e4f14493a9ff9830513609fd": {
          "model_module": "@jupyter-widgets/output",
          "model_module_version": "1.0.0",
          "model_name": "OutputModel",
          "state": {
            "_dom_classes": [],
            "_model_module": "@jupyter-widgets/output",
            "_model_module_version": "1.0.0",
            "_model_name": "OutputModel",
            "_view_count": null,
            "_view_module": "@jupyter-widgets/output",
            "_view_module_version": "1.0.0",
            "_view_name": "OutputView",
            "layout": "IPY_MODEL_57d6af14edeb4763b81002174cae0d93",
            "msg_id": "",
            "outputs": [
              {
                "data": {
                  "application/vnd.google.colaboratory.intrinsic+json": {
                    "summary": "{\n  \"name\": \"display(dropdown, output)\",\n  \"rows\": 1336,\n  \"fields\": [\n    {\n      \"column\": \"name\",\n      \"properties\": {\n        \"dtype\": \"string\",\n        \"num_unique_values\": 1322,\n        \"samples\": [\n          \"Rania Gupta\",\n          \"Veer Rattan\",\n          \"Kanav Dada\"\n        ],\n        \"semantic_type\": \"\",\n        \"description\": \"\"\n      }\n    },\n    {\n      \"column\": \"state\",\n      \"properties\": {\n        \"dtype\": \"category\",\n        \"num_unique_values\": 28,\n        \"samples\": [\n          \"Rajasthan\",\n          \"Tripura\",\n          \"Kerala\"\n        ],\n        \"semantic_type\": \"\",\n        \"description\": \"\"\n      }\n    },\n    {\n      \"column\": \"district\",\n      \"properties\": {\n        \"dtype\": \"category\",\n        \"num_unique_values\": 102,\n        \"samples\": [\n          \"Bhubaneswar\",\n          \"Jabalpur\",\n          \"Kota\"\n        ],\n        \"semantic_type\": \"\",\n        \"description\": \"\"\n      }\n    },\n    {\n      \"column\": \"village\",\n      \"properties\": {\n        \"dtype\": \"category\",\n        \"num_unique_values\": 270,\n        \"samples\": [\n          \"Proddatur\",\n          \"Ichalkaranji\",\n          \"Bhimavaram\"\n        ],\n        \"semantic_type\": \"\",\n        \"description\": \"\"\n      }\n    }\n  ]\n}",
                    "type": "dataframe"
                  },
                  "text/html": "\n  <div id=\"df-fb974655-efd6-43e2-bff6-8f05f74e14b7\" class=\"colab-df-container\">\n    <div>\n<style scoped>\n    .dataframe tbody tr th:only-of-type {\n        vertical-align: middle;\n    }\n\n    .dataframe tbody tr th {\n        vertical-align: top;\n    }\n\n    .dataframe thead th {\n        text-align: right;\n    }\n</style>\n<table border=\"1\" class=\"dataframe\">\n  <thead>\n    <tr style=\"text-align: right;\">\n      <th></th>\n      <th>name</th>\n      <th>state</th>\n      <th>district</th>\n      <th>village</th>\n    </tr>\n  </thead>\n  <tbody>\n    <tr>\n      <th>10</th>\n      <td>Ayesha Shukla</td>\n      <td>West Bengal</td>\n      <td>Bardhaman</td>\n      <td>Delhi</td>\n    </tr>\n    <tr>\n      <th>36</th>\n      <td>Arhaan Loyal</td>\n      <td>Uttar Pradesh</td>\n      <td>Lucknow</td>\n      <td>Guwahati</td>\n    </tr>\n    <tr>\n      <th>43</th>\n      <td>Darshit Bhagat</td>\n      <td>Karnataka</td>\n      <td>Bengaluru</td>\n      <td>Ville</td>\n    </tr>\n    <tr>\n      <th>50</th>\n      <td>Trisha Deep</td>\n      <td>Madhya Pradesh</td>\n      <td>Bhopal</td>\n      <td>Ville</td>\n    </tr>\n    <tr>\n      <th>61</th>\n      <td>Urvi Deol</td>\n      <td>Maharashtra</td>\n      <td>Pune</td>\n      <td>Ville</td>\n    </tr>\n    <tr>\n      <th>...</th>\n      <td>...</td>\n      <td>...</td>\n      <td>...</td>\n      <td>...</td>\n    </tr>\n    <tr>\n      <th>49840</th>\n      <td>Jayan Sandhu</td>\n      <td>Karnataka</td>\n      <td>Hubballi</td>\n      <td>Ville</td>\n    </tr>\n    <tr>\n      <th>49847</th>\n      <td>Abram Toor</td>\n      <td>Jharkhand</td>\n      <td>Dhanbad</td>\n      <td>Ville</td>\n    </tr>\n    <tr>\n      <th>49903</th>\n      <td>Riaan Buch</td>\n      <td>Karnataka</td>\n      <td>Udupi</td>\n      <td>Ville</td>\n    </tr>\n    <tr>\n      <th>49941</th>\n      <td>Nakul Dube</td>\n      <td>Uttar Pradesh</td>\n      <td>Lucknow</td>\n      <td>Ville</td>\n    </tr>\n    <tr>\n      <th>49942</th>\n      <td>Madhav Upadhyay</td>\n      <td>Rajasthan</td>\n      <td>Jodhpur</td>\n      <td>Ville</td>\n    </tr>\n  </tbody>\n</table>\n<p>1336 rows × 4 columns</p>\n</div>\n    <div class=\"colab-df-buttons\">\n\n  <div class=\"colab-df-container\">\n    <button class=\"colab-df-convert\" onclick=\"convertToInteractive('df-fb974655-efd6-43e2-bff6-8f05f74e14b7')\"\n            title=\"Convert this dataframe to an interactive table.\"\n            style=\"display:none;\">\n\n  <svg xmlns=\"http://www.w3.org/2000/svg\" height=\"24px\" viewBox=\"0 -960 960 960\">\n    <path d=\"M120-120v-720h720v720H120Zm60-500h600v-160H180v160Zm220 220h160v-160H400v160Zm0 220h160v-160H400v160ZM180-400h160v-160H180v160Zm440 0h160v-160H620v160ZM180-180h160v-160H180v160Zm440 0h160v-160H620v160Z\"/>\n  </svg>\n    </button>\n\n  <style>\n    .colab-df-container {\n      display:flex;\n      gap: 12px;\n    }\n\n    .colab-df-convert {\n      background-color: #E8F0FE;\n      border: none;\n      border-radius: 50%;\n      cursor: pointer;\n      display: none;\n      fill: #1967D2;\n      height: 32px;\n      padding: 0 0 0 0;\n      width: 32px;\n    }\n\n    .colab-df-convert:hover {\n      background-color: #E2EBFA;\n      box-shadow: 0px 1px 2px rgba(60, 64, 67, 0.3), 0px 1px 3px 1px rgba(60, 64, 67, 0.15);\n      fill: #174EA6;\n    }\n\n    .colab-df-buttons div {\n      margin-bottom: 4px;\n    }\n\n    [theme=dark] .colab-df-convert {\n      background-color: #3B4455;\n      fill: #D2E3FC;\n    }\n\n    [theme=dark] .colab-df-convert:hover {\n      background-color: #434B5C;\n      box-shadow: 0px 1px 3px 1px rgba(0, 0, 0, 0.15);\n      filter: drop-shadow(0px 1px 2px rgba(0, 0, 0, 0.3));\n      fill: #FFFFFF;\n    }\n  </style>\n\n    <script>\n      const buttonEl =\n        document.querySelector('#df-fb974655-efd6-43e2-bff6-8f05f74e14b7 button.colab-df-convert');\n      buttonEl.style.display =\n        google.colab.kernel.accessAllowed ? 'block' : 'none';\n\n      async function convertToInteractive(key) {\n        const element = document.querySelector('#df-fb974655-efd6-43e2-bff6-8f05f74e14b7');\n        const dataTable =\n          await google.colab.kernel.invokeFunction('convertToInteractive',\n                                                    [key], {});\n        if (!dataTable) return;\n\n        const docLinkHtml = 'Like what you see? Visit the ' +\n          '<a target=\"_blank\" href=https://colab.research.google.com/notebooks/data_table.ipynb>data table notebook</a>'\n          + ' to learn more about interactive tables.';\n        element.innerHTML = '';\n        dataTable['output_type'] = 'display_data';\n        await google.colab.output.renderOutput(dataTable, element);\n        const docLink = document.createElement('div');\n        docLink.innerHTML = docLinkHtml;\n        element.appendChild(docLink);\n      }\n    </script>\n  </div>\n\n\n    <div id=\"df-54e878fa-002d-4987-acf2-5463b84dec12\">\n      <button class=\"colab-df-quickchart\" onclick=\"quickchart('df-54e878fa-002d-4987-acf2-5463b84dec12')\"\n                title=\"Suggest charts\"\n                style=\"display:none;\">\n\n<svg xmlns=\"http://www.w3.org/2000/svg\" height=\"24px\"viewBox=\"0 0 24 24\"\n     width=\"24px\">\n    <g>\n        <path d=\"M19 3H5c-1.1 0-2 .9-2 2v14c0 1.1.9 2 2 2h14c1.1 0 2-.9 2-2V5c0-1.1-.9-2-2-2zM9 17H7v-7h2v7zm4 0h-2V7h2v10zm4 0h-2v-4h2v4z\"/>\n    </g>\n</svg>\n      </button>\n\n<style>\n  .colab-df-quickchart {\n      --bg-color: #E8F0FE;\n      --fill-color: #1967D2;\n      --hover-bg-color: #E2EBFA;\n      --hover-fill-color: #174EA6;\n      --disabled-fill-color: #AAA;\n      --disabled-bg-color: #DDD;\n  }\n\n  [theme=dark] .colab-df-quickchart {\n      --bg-color: #3B4455;\n      --fill-color: #D2E3FC;\n      --hover-bg-color: #434B5C;\n      --hover-fill-color: #FFFFFF;\n      --disabled-bg-color: #3B4455;\n      --disabled-fill-color: #666;\n  }\n\n  .colab-df-quickchart {\n    background-color: var(--bg-color);\n    border: none;\n    border-radius: 50%;\n    cursor: pointer;\n    display: none;\n    fill: var(--fill-color);\n    height: 32px;\n    padding: 0;\n    width: 32px;\n  }\n\n  .colab-df-quickchart:hover {\n    background-color: var(--hover-bg-color);\n    box-shadow: 0 1px 2px rgba(60, 64, 67, 0.3), 0 1px 3px 1px rgba(60, 64, 67, 0.15);\n    fill: var(--button-hover-fill-color);\n  }\n\n  .colab-df-quickchart-complete:disabled,\n  .colab-df-quickchart-complete:disabled:hover {\n    background-color: var(--disabled-bg-color);\n    fill: var(--disabled-fill-color);\n    box-shadow: none;\n  }\n\n  .colab-df-spinner {\n    border: 2px solid var(--fill-color);\n    border-color: transparent;\n    border-bottom-color: var(--fill-color);\n    animation:\n      spin 1s steps(1) infinite;\n  }\n\n  @keyframes spin {\n    0% {\n      border-color: transparent;\n      border-bottom-color: var(--fill-color);\n      border-left-color: var(--fill-color);\n    }\n    20% {\n      border-color: transparent;\n      border-left-color: var(--fill-color);\n      border-top-color: var(--fill-color);\n    }\n    30% {\n      border-color: transparent;\n      border-left-color: var(--fill-color);\n      border-top-color: var(--fill-color);\n      border-right-color: var(--fill-color);\n    }\n    40% {\n      border-color: transparent;\n      border-right-color: var(--fill-color);\n      border-top-color: var(--fill-color);\n    }\n    60% {\n      border-color: transparent;\n      border-right-color: var(--fill-color);\n    }\n    80% {\n      border-color: transparent;\n      border-right-color: var(--fill-color);\n      border-bottom-color: var(--fill-color);\n    }\n    90% {\n      border-color: transparent;\n      border-bottom-color: var(--fill-color);\n    }\n  }\n</style>\n\n      <script>\n        async function quickchart(key) {\n          const quickchartButtonEl =\n            document.querySelector('#' + key + ' button');\n          quickchartButtonEl.disabled = true;  // To prevent multiple clicks.\n          quickchartButtonEl.classList.add('colab-df-spinner');\n          try {\n            const charts = await google.colab.kernel.invokeFunction(\n                'suggestCharts', [key], {});\n          } catch (error) {\n            console.error('Error during call to suggestCharts:', error);\n          }\n          quickchartButtonEl.classList.remove('colab-df-spinner');\n          quickchartButtonEl.classList.add('colab-df-quickchart-complete');\n        }\n        (() => {\n          let quickchartButtonEl =\n            document.querySelector('#df-54e878fa-002d-4987-acf2-5463b84dec12 button');\n          quickchartButtonEl.style.display =\n            google.colab.kernel.accessAllowed ? 'block' : 'none';\n        })();\n      </script>\n    </div>\n\n    </div>\n  </div>\n",
                  "text/plain": "                  name           state   district   village\n10       Ayesha Shukla     West Bengal  Bardhaman     Delhi\n36        Arhaan Loyal   Uttar Pradesh    Lucknow  Guwahati\n43      Darshit Bhagat       Karnataka  Bengaluru     Ville\n50         Trisha Deep  Madhya Pradesh     Bhopal     Ville\n61           Urvi Deol     Maharashtra       Pune     Ville\n...                ...             ...        ...       ...\n49840     Jayan Sandhu       Karnataka   Hubballi     Ville\n49847       Abram Toor       Jharkhand    Dhanbad     Ville\n49903       Riaan Buch       Karnataka      Udupi     Ville\n49941       Nakul Dube   Uttar Pradesh    Lucknow     Ville\n49942  Madhav Upadhyay       Rajasthan    Jodhpur     Ville\n\n[1336 rows x 4 columns]"
                },
                "metadata": {},
                "output_type": "display_data"
              }
            ]
          }
        },
        "57d6af14edeb4763b81002174cae0d93": {
          "model_module": "@jupyter-widgets/base",
          "model_module_version": "1.2.0",
          "model_name": "LayoutModel",
          "state": {
            "_model_module": "@jupyter-widgets/base",
            "_model_module_version": "1.2.0",
            "_model_name": "LayoutModel",
            "_view_count": null,
            "_view_module": "@jupyter-widgets/base",
            "_view_module_version": "1.2.0",
            "_view_name": "LayoutView",
            "align_content": null,
            "align_items": null,
            "align_self": null,
            "border": null,
            "bottom": null,
            "display": null,
            "flex": null,
            "flex_flow": null,
            "grid_area": null,
            "grid_auto_columns": null,
            "grid_auto_flow": null,
            "grid_auto_rows": null,
            "grid_column": null,
            "grid_gap": null,
            "grid_row": null,
            "grid_template_areas": null,
            "grid_template_columns": null,
            "grid_template_rows": null,
            "height": null,
            "justify_content": null,
            "justify_items": null,
            "left": null,
            "margin": null,
            "max_height": null,
            "max_width": null,
            "min_height": null,
            "min_width": null,
            "object_fit": null,
            "object_position": null,
            "order": null,
            "overflow": null,
            "overflow_x": null,
            "overflow_y": null,
            "padding": null,
            "right": null,
            "top": null,
            "visibility": null,
            "width": null
          }
        },
        "94802038516247a296d80a776f826f8d": {
          "model_module": "@jupyter-widgets/controls",
          "model_module_version": "1.5.0",
          "model_name": "DropdownModel",
          "state": {
            "_dom_classes": [],
            "_model_module": "@jupyter-widgets/controls",
            "_model_module_version": "1.5.0",
            "_model_name": "DropdownModel",
            "_options_labels": [
              "Bamboo & Cane",
              "Banarasi Weaving",
              "Bandhani Tie-Dye",
              "Bidriware",
              "Black Pottery",
              "Block Printing",
              "Blue Pottery",
              "Carpet Weaving",
              "Channapatna Toys",
              "Chikankari",
              "Coir Craft",
              "Dokra (Bell Metal)",
              "Durrie Weaving",
              "Handloom Weaving",
              "Jute Craft",
              "Kalamkari",
              "Kundan Jewellery",
              "Kutch Embroidery",
              "Lac Work",
              "Leather Craft",
              "Madhubani Painting",
              "Metalwork",
              "Paper Mache",
              "Pattachitra",
              "Phulkari",
              "Pottery",
              "Rogan Art",
              "Sandalwood Carving",
              "Shell Craft",
              "Sikki Grass",
              "Silver Filigree",
              "Stone Carving",
              "Tanjore Painting",
              "Terracotta",
              "Thanjavur Dolls",
              "Warli Painting",
              "Wood Carving",
              "Zari/Zardozi"
            ],
            "_view_count": null,
            "_view_module": "@jupyter-widgets/controls",
            "_view_module_version": "1.5.0",
            "_view_name": "DropdownView",
            "description": "Craft:",
            "description_tooltip": null,
            "disabled": false,
            "index": 0,
            "layout": "IPY_MODEL_ad9b4328985a4fb8858754963692ef87",
            "style": "IPY_MODEL_ed94c02472404a01b85bd758d8ef407a"
          }
        },
        "ad9b4328985a4fb8858754963692ef87": {
          "model_module": "@jupyter-widgets/base",
          "model_module_version": "1.2.0",
          "model_name": "LayoutModel",
          "state": {
            "_model_module": "@jupyter-widgets/base",
            "_model_module_version": "1.2.0",
            "_model_name": "LayoutModel",
            "_view_count": null,
            "_view_module": "@jupyter-widgets/base",
            "_view_module_version": "1.2.0",
            "_view_name": "LayoutView",
            "align_content": null,
            "align_items": null,
            "align_self": null,
            "border": null,
            "bottom": null,
            "display": null,
            "flex": null,
            "flex_flow": null,
            "grid_area": null,
            "grid_auto_columns": null,
            "grid_auto_flow": null,
            "grid_auto_rows": null,
            "grid_column": null,
            "grid_gap": null,
            "grid_row": null,
            "grid_template_areas": null,
            "grid_template_columns": null,
            "grid_template_rows": null,
            "height": null,
            "justify_content": null,
            "justify_items": null,
            "left": null,
            "margin": null,
            "max_height": null,
            "max_width": null,
            "min_height": null,
            "min_width": null,
            "object_fit": null,
            "object_position": null,
            "order": null,
            "overflow": null,
            "overflow_x": null,
            "overflow_y": null,
            "padding": null,
            "right": null,
            "top": null,
            "visibility": null,
            "width": null
          }
        },
        "ed94c02472404a01b85bd758d8ef407a": {
          "model_module": "@jupyter-widgets/controls",
          "model_module_version": "1.5.0",
          "model_name": "DescriptionStyleModel",
          "state": {
            "_model_module": "@jupyter-widgets/controls",
            "_model_module_version": "1.5.0",
            "_model_name": "DescriptionStyleModel",
            "_view_count": null,
            "_view_module": "@jupyter-widgets/base",
            "_view_module_version": "1.2.0",
            "_view_name": "StyleView",
            "description_width": "initial"
          }
        }
      }
    }
  },
  "nbformat": 4,
  "nbformat_minor": 0
}
