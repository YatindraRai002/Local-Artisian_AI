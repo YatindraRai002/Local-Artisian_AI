{
  "nbformat": 4,
  "nbformat_minor": 0,
  "metadata": {
    "colab": {
      "provenance": [],
      "authorship_tag": "ABX9TyN6xEidamgcF+VzX1Nhf1Y5",
      "include_colab_link": true
    },
    "kernelspec": {
      "name": "python3",
      "display_name": "Python 3"
    },
    "language_info": {
      "name": "python"
    },
    "widgets": {
      "application/vnd.jupyter.widget-state+json": {
        "bcf98078016942558e7680a41cab2317": {
          "model_module": "@jupyter-widgets/controls",
          "model_name": "DropdownModel",
          "model_module_version": "1.5.0",
          "state": {
            "_dom_classes": [],
            "_model_module": "@jupyter-widgets/controls",
            "_model_module_version": "1.5.0",
            "_model_name": "DropdownModel",
            "_options_labels": [
              "Bamboo & Cane",
              "Banarasi Weaving",
              "Bandhani Tie-Dye",
              "Bidriware",
              "Black Pottery",
              "Block Printing",
              "Blue Pottery",
              "Carpet Weaving",
              "Channapatna Toys",
              "Chikankari",
              "Coir Craft",
              "Dokra (Bell Metal)",
              "Durrie Weaving",
              "Handloom Weaving",
              "Jute Craft",
              "Kalamkari",
              "Kundan Jewellery",
              "Kutch Embroidery",
              "Lac Work",
              "Leather Craft",
              "Madhubani Painting",
              "Metalwork",
              "Paper Mache",
              "Pattachitra",
              "Phulkari",
              "Pottery",
              "Rogan Art",
              "Sandalwood Carving",
              "Shell Craft",
              "Sikki Grass",
              "Silver Filigree",
              "Stone Carving",
              "Tanjore Painting",
              "Terracotta",
              "Thanjavur Dolls",
              "Warli Painting",
              "Wood Carving",
              "Zari/Zardozi"
            ],
            "_view_count": null,
            "_view_module": "@jupyter-widgets/controls",
            "_view_module_version": "1.5.0",
            "_view_name": "DropdownView",
            "description": "Craft:",
            "description_tooltip": null,
            "disabled": false,
            "index": 14,
            "layout": "IPY_MODEL_4f917d3c5f48474185d70f2cbb40ad24",
            "style": "IPY_MODEL_5e7a0a9d7ca94c0d882afb620b166ed2"
          }
        },
        "4f917d3c5f48474185d70f2cbb40ad24": {
          "model_module": "@jupyter-widgets/base",
          "model_name": "LayoutModel",
          "model_module_version": "1.2.0",
          "state": {
            "_model_module": "@jupyter-widgets/base",
            "_model_module_version": "1.2.0",
            "_model_name": "LayoutModel",
            "_view_count": null,
            "_view_module": "@jupyter-widgets/base",
            "_view_module_version": "1.2.0",
            "_view_name": "LayoutView",
            "align_content": null,
            "align_items": null,
            "align_self": null,
            "border": null,
            "bottom": null,
            "display": null,
            "flex": null,
            "flex_flow": null,
            "grid_area": null,
            "grid_auto_columns": null,
            "grid_auto_flow": null,
            "grid_auto_rows": null,
            "grid_column": null,
            "grid_gap": null,
            "grid_row": null,
            "grid_template_areas": null,
            "grid_template_columns": null,
            "grid_template_rows": null,
            "height": null,
            "justify_content": null,
            "justify_items": null,
            "left": null,
            "margin": null,
            "max_height": null,
            "max_width": null,
            "min_height": null,
            "min_width": null,
            "object_fit": null,
            "object_position": null,
            "order": null,
            "overflow": null,
            "overflow_x": null,
            "overflow_y": null,
            "padding": null,
            "right": null,
            "top": null,
            "visibility": null,
            "width": null
          }
        },
        "5e7a0a9d7ca94c0d882afb620b166ed2": {
          "model_module": "@jupyter-widgets/controls",
          "model_name": "DescriptionStyleModel",
          "model_module_version": "1.5.0",
          "state": {
            "_model_module": "@jupyter-widgets/controls",
            "_model_module_version": "1.5.0",
            "_model_name": "DescriptionStyleModel",
            "_view_count": null,
            "_view_module": "@jupyter-widgets/base",
            "_view_module_version": "1.2.0",
            "_view_name": "StyleView",
            "description_width": "initial"
          }
        },
        "2bb1d9c599504ce4a2cd68aed6317a7e": {
          "model_module": "@jupyter-widgets/output",
          "model_name": "OutputModel",
          "model_module_version": "1.0.0",
          "state": {
            "_dom_classes": [],
            "_model_module": "@jupyter-widgets/output",
            "_model_module_version": "1.0.0",
            "_model_name": "OutputModel",
            "_view_count": null,
            "_view_module": "@jupyter-widgets/output",
            "_view_module_version": "1.0.0",
            "_view_name": "OutputView",
            "layout": "IPY_MODEL_927a5769c0ac463188fb0bc4f303824c",
            "msg_id": "",
            "outputs": [
              {
                "output_type": "display_data",
                "data": {
                  "text/plain": "                     name             state            district        village\n28         Ivan Chowdhury         Karnataka           Bengaluru          Ville\n453            Tanya Lata            Kerala  Thiruvananthapuram          Ville\n488            Tejas Ravi       Maharashtra              Nagpur  Muzaffarnagar\n508          Charvi Krish     Uttar Pradesh           Prayagraj          Ville\n517         Kartik Talwar         Rajasthan             Bikaner          Ville\n...                   ...               ...                 ...            ...\n49906     Vardaniya Datta  Himachal Pradesh               Kullu       Amravati\n49937  Faiyaz Ranganathan           Gujarat               Kutch          Ville\n49984        Prisha Saini       Maharashtra              Nashik    Madhyamgram\n49992     Divyansh Sekhon   Jammu & Kashmir            Srinagar          Ville\n49993          Amira Kibe    Andhra Pradesh       Visakhapatnam      Jalandhar\n\n[1299 rows x 4 columns]",
                  "text/html": "\n  <div id=\"df-7adc302a-b8e2-4c71-9988-1495cba66534\" class=\"colab-df-container\">\n    <div>\n<style scoped>\n    .dataframe tbody tr th:only-of-type {\n        vertical-align: middle;\n    }\n\n    .dataframe tbody tr th {\n        vertical-align: top;\n    }\n\n    .dataframe thead th {\n        text-align: right;\n    }\n</style>\n<table border=\"1\" class=\"dataframe\">\n  <thead>\n    <tr style=\"text-align: right;\">\n      <th></th>\n      <th>name</th>\n      <th>state</th>\n      <th>district</th>\n      <th>village</th>\n    </tr>\n  </thead>\n  <tbody>\n    <tr>\n      <th>28</th>\n      <td>Ivan Chowdhury</td>\n      <td>Karnataka</td>\n      <td>Bengaluru</td>\n      <td>Ville</td>\n    </tr>\n    <tr>\n      <th>453</th>\n      <td>Tanya Lata</td>\n      <td>Kerala</td>\n      <td>Thiruvananthapuram</td>\n      <td>Ville</td>\n    </tr>\n    <tr>\n      <th>488</th>\n      <td>Tejas Ravi</td>\n      <td>Maharashtra</td>\n      <td>Nagpur</td>\n      <td>Muzaffarnagar</td>\n    </tr>\n    <tr>\n      <th>508</th>\n      <td>Charvi Krish</td>\n      <td>Uttar Pradesh</td>\n      <td>Prayagraj</td>\n      <td>Ville</td>\n    </tr>\n    <tr>\n      <th>517</th>\n      <td>Kartik Talwar</td>\n      <td>Rajasthan</td>\n      <td>Bikaner</td>\n      <td>Ville</td>\n    </tr>\n    <tr>\n      <th>...</th>\n      <td>...</td>\n      <td>...</td>\n      <td>...</td>\n      <td>...</td>\n    </tr>\n    <tr>\n      <th>49906</th>\n      <td>Vardaniya Datta</td>\n      <td>Himachal Pradesh</td>\n      <td>Kullu</td>\n      <td>Amravati</td>\n    </tr>\n    <tr>\n      <th>49937</th>\n      <td>Faiyaz Ranganathan</td>\n      <td>Gujarat</td>\n      <td>Kutch</td>\n      <td>Ville</td>\n    </tr>\n    <tr>\n      <th>49984</th>\n      <td>Prisha Saini</td>\n      <td>Maharashtra</td>\n      <td>Nashik</td>\n      <td>Madhyamgram</td>\n    </tr>\n    <tr>\n      <th>49992</th>\n      <td>Divyansh Sekhon</td>\n      <td>Jammu &amp; Kashmir</td>\n      <td>Srinagar</td>\n      <td>Ville</td>\n    </tr>\n    <tr>\n      <th>49993</th>\n      <td>Amira Kibe</td>\n      <td>Andhra Pradesh</td>\n      <td>Visakhapatnam</td>\n      <td>Jalandhar</td>\n    </tr>\n  </tbody>\n</table>\n<p>1299 rows × 4 columns</p>\n</div>\n    <div class=\"colab-df-buttons\">\n\n  <div class=\"colab-df-container\">\n    <button class=\"colab-df-convert\" onclick=\"convertToInteractive('df-7adc302a-b8e2-4c71-9988-1495cba66534')\"\n            title=\"Convert this dataframe to an interactive table.\"\n            style=\"display:none;\">\n\n  <svg xmlns=\"http://www.w3.org/2000/svg\" height=\"24px\" viewBox=\"0 -960 960 960\">\n    <path d=\"M120-120v-720h720v720H120Zm60-500h600v-160H180v160Zm220 220h160v-160H400v160Zm0 220h160v-160H400v160ZM180-400h160v-160H180v160Zm440 0h160v-160H620v160ZM180-180h160v-160H180v160Zm440 0h160v-160H620v160Z\"/>\n  </svg>\n    </button>\n\n  <style>\n    .colab-df-container {\n      display:flex;\n      gap: 12px;\n    }\n\n    .colab-df-convert {\n      background-color: #E8F0FE;\n      border: none;\n      border-radius: 50%;\n      cursor: pointer;\n      display: none;\n      fill: #1967D2;\n      height: 32px;\n      padding: 0 0 0 0;\n      width: 32px;\n    }\n\n    .colab-df-convert:hover {\n      background-color: #E2EBFA;\n      box-shadow: 0px 1px 2px rgba(60, 64, 67, 0.3), 0px 1px 3px 1px rgba(60, 64, 67, 0.15);\n      fill: #174EA6;\n    }\n\n    .colab-df-buttons div {\n      margin-bottom: 4px;\n    }\n\n    [theme=dark] .colab-df-convert {\n      background-color: #3B4455;\n      fill: #D2E3FC;\n    }\n\n    [theme=dark] .colab-df-convert:hover {\n      background-color: #434B5C;\n      box-shadow: 0px 1px 3px 1px rgba(0, 0, 0, 0.15);\n      filter: drop-shadow(0px 1px 2px rgba(0, 0, 0, 0.3));\n      fill: #FFFFFF;\n    }\n  </style>\n\n    <script>\n      const buttonEl =\n        document.querySelector('#df-7adc302a-b8e2-4c71-9988-1495cba66534 button.colab-df-convert');\n      buttonEl.style.display =\n        google.colab.kernel.accessAllowed ? 'block' : 'none';\n\n      async function convertToInteractive(key) {\n        const element = document.querySelector('#df-7adc302a-b8e2-4c71-9988-1495cba66534');\n        const dataTable =\n          await google.colab.kernel.invokeFunction('convertToInteractive',\n                                                    [key], {});\n        if (!dataTable) return;\n\n        const docLinkHtml = 'Like what you see? Visit the ' +\n          '<a target=\"_blank\" href=https://colab.research.google.com/notebooks/data_table.ipynb>data table notebook</a>'\n          + ' to learn more about interactive tables.';\n        element.innerHTML = '';\n        dataTable['output_type'] = 'display_data';\n        await google.colab.output.renderOutput(dataTable, element);\n        const docLink = document.createElement('div');\n        docLink.innerHTML = docLinkHtml;\n        element.appendChild(docLink);\n      }\n    </script>\n  </div>\n\n\n    <div id=\"df-7a096b0d-5eb9-4def-9aa9-2bcf4419c56d\">\n      <button class=\"colab-df-quickchart\" onclick=\"quickchart('df-7a096b0d-5eb9-4def-9aa9-2bcf4419c56d')\"\n                title=\"Suggest charts\"\n                style=\"display:none;\">\n\n<svg xmlns=\"http://www.w3.org/2000/svg\" height=\"24px\"viewBox=\"0 0 24 24\"\n     width=\"24px\">\n    <g>\n        <path d=\"M19 3H5c-1.1 0-2 .9-2 2v14c0 1.1.9 2 2 2h14c1.1 0 2-.9 2-2V5c0-1.1-.9-2-2-2zM9 17H7v-7h2v7zm4 0h-2V7h2v10zm4 0h-2v-4h2v4z\"/>\n    </g>\n</svg>\n      </button>\n\n<style>\n  .colab-df-quickchart {\n      --bg-color: #E8F0FE;\n      --fill-color: #1967D2;\n      --hover-bg-color: #E2EBFA;\n      --hover-fill-color: #174EA6;\n      --disabled-fill-color: #AAA;\n      --disabled-bg-color: #DDD;\n  }\n\n  [theme=dark] .colab-df-quickchart {\n      --bg-color: #3B4455;\n      --fill-color: #D2E3FC;\n      --hover-bg-color: #434B5C;\n      --hover-fill-color: #FFFFFF;\n      --disabled-bg-color: #3B4455;\n      --disabled-fill-color: #666;\n  }\n\n  .colab-df-quickchart {\n    background-color: var(--bg-color);\n    border: none;\n    border-radius: 50%;\n    cursor: pointer;\n    display: none;\n    fill: var(--fill-color);\n    height: 32px;\n    padding: 0;\n    width: 32px;\n  }\n\n  .colab-df-quickchart:hover {\n    background-color: var(--hover-bg-color);\n    box-shadow: 0 1px 2px rgba(60, 64, 67, 0.3), 0 1px 3px 1px rgba(60, 64, 67, 0.15);\n    fill: var(--button-hover-fill-color);\n  }\n\n  .colab-df-quickchart-complete:disabled,\n  .colab-df-quickchart-complete:disabled:hover {\n    background-color: var(--disabled-bg-color);\n    fill: var(--disabled-fill-color);\n    box-shadow: none;\n  }\n\n  .colab-df-spinner {\n    border: 2px solid var(--fill-color);\n    border-color: transparent;\n    border-bottom-color: var(--fill-color);\n    animation:\n      spin 1s steps(1) infinite;\n  }\n\n  @keyframes spin {\n    0% {\n      border-color: transparent;\n      border-bottom-color: var(--fill-color);\n      border-left-color: var(--fill-color);\n    }\n    20% {\n      border-color: transparent;\n      border-left-color: var(--fill-color);\n      border-top-color: var(--fill-color);\n    }\n    30% {\n      border-color: transparent;\n      border-left-color: var(--fill-color);\n      border-top-color: var(--fill-color);\n      border-right-color: var(--fill-color);\n    }\n    40% {\n      border-color: transparent;\n      border-right-color: var(--fill-color);\n      border-top-color: var(--fill-color);\n    }\n    60% {\n      border-color: transparent;\n      border-right-color: var(--fill-color);\n    }\n    80% {\n      border-color: transparent;\n      border-right-color: var(--fill-color);\n      border-bottom-color: var(--fill-color);\n    }\n    90% {\n      border-color: transparent;\n      border-bottom-color: var(--fill-color);\n    }\n  }\n</style>\n\n      <script>\n        async function quickchart(key) {\n          const quickchartButtonEl =\n            document.querySelector('#' + key + ' button');\n          quickchartButtonEl.disabled = true;  // To prevent multiple clicks.\n          quickchartButtonEl.classList.add('colab-df-spinner');\n          try {\n            const charts = await google.colab.kernel.invokeFunction(\n                'suggestCharts', [key], {});\n          } catch (error) {\n            console.error('Error during call to suggestCharts:', error);\n          }\n          quickchartButtonEl.classList.remove('colab-df-spinner');\n          quickchartButtonEl.classList.add('colab-df-quickchart-complete');\n        }\n        (() => {\n          let quickchartButtonEl =\n            document.querySelector('#df-7a096b0d-5eb9-4def-9aa9-2bcf4419c56d button');\n          quickchartButtonEl.style.display =\n            google.colab.kernel.accessAllowed ? 'block' : 'none';\n        })();\n      </script>\n    </div>\n\n    </div>\n  </div>\n",
                  "application/vnd.google.colaboratory.intrinsic+json": {
                    "type": "dataframe",
                    "summary": "{\n  \"name\": \"display(output)\",\n  \"rows\": 1299,\n  \"fields\": [\n    {\n      \"column\": \"name\",\n      \"properties\": {\n        \"dtype\": \"string\",\n        \"num_unique_values\": 1291,\n        \"samples\": [\n          \"Stuvan Bassi\",\n          \"Anya Aurora\",\n          \"Dishani Gulati\"\n        ],\n        \"semantic_type\": \"\",\n        \"description\": \"\"\n      }\n    },\n    {\n      \"column\": \"state\",\n      \"properties\": {\n        \"dtype\": \"category\",\n        \"num_unique_values\": 28,\n        \"samples\": [\n          \"Tripura\",\n          \"Sikkim\",\n          \"Uttarakhand\"\n        ],\n        \"semantic_type\": \"\",\n        \"description\": \"\"\n      }\n    },\n    {\n      \"column\": \"district\",\n      \"properties\": {\n        \"dtype\": \"category\",\n        \"num_unique_values\": 101,\n        \"samples\": [\n          \"Warangal\",\n          \"Ajmer\",\n          \"Kullu\"\n        ],\n        \"semantic_type\": \"\",\n        \"description\": \"\"\n      }\n    },\n    {\n      \"column\": \"village\",\n      \"properties\": {\n        \"dtype\": \"category\",\n        \"num_unique_values\": 279,\n        \"samples\": [\n          \"Dhanbad\",\n          \"Indore\",\n          \"Surat\"\n        ],\n        \"semantic_type\": \"\",\n        \"description\": \"\"\n      }\n    }\n  ]\n}"
                  }
                },
                "metadata": {}
              }
            ]
          }
        },
        "927a5769c0ac463188fb0bc4f303824c": {
          "model_module": "@jupyter-widgets/base",
          "model_name": "LayoutModel",
          "model_module_version": "1.2.0",
          "state": {
            "_model_module": "@jupyter-widgets/base",
            "_model_module_version": "1.2.0",
            "_model_name": "LayoutModel",
            "_view_count": null,
            "_view_module": "@jupyter-widgets/base",
            "_view_module_version": "1.2.0",
            "_view_name": "LayoutView",
            "align_content": null,
            "align_items": null,
            "align_self": null,
            "border": null,
            "bottom": null,
            "display": null,
            "flex": null,
            "flex_flow": null,
            "grid_area": null,
            "grid_auto_columns": null,
            "grid_auto_flow": null,
            "grid_auto_rows": null,
            "grid_column": null,
            "grid_gap": null,
            "grid_row": null,
            "grid_template_areas": null,
            "grid_template_columns": null,
            "grid_template_rows": null,
            "height": null,
            "justify_content": null,
            "justify_items": null,
            "left": null,
            "margin": null,
            "max_height": null,
            "max_width": null,
            "min_height": null,
            "min_width": null,
            "object_fit": null,
            "object_position": null,
            "order": null,
            "overflow": null,
            "overflow_x": null,
            "overflow_y": null,
            "padding": null,
            "right": null,
            "top": null,
            "visibility": null,
            "width": null
          }
        }
      }
    }
  },
  "cells": [
    {
      "cell_type": "markdown",
      "metadata": {
        "id": "view-in-github",
        "colab_type": "text"
      },
      "source": [
        "<a href=\"https://colab.research.google.com/github/YatindraRai002/Local-Artisian_AI/blob/feat%2Fupdated-sorting-model/Sorting_model.ipynb\" target=\"_parent\"><img src=\"https://colab.research.google.com/assets/colab-badge.svg\" alt=\"Open In Colab\"/></a>"
      ]
    },
    {
      "cell_type": "code",
      "execution_count": 1,
      "metadata": {
        "id": "CbpxOU7cYSPC"
      },
      "outputs": [],
      "source": [
        "import pandas as pd\n"
      ]
    },
    {
      "cell_type": "code",
      "source": [
        "df = pd.read_csv('/content/Artisans.csv')"
      ],
      "metadata": {
        "id": "w8jb-KToaNTy"
      },
      "execution_count": 2,
      "outputs": []
    },
    {
      "cell_type": "code",
      "source": [
        "display(df.head())"
      ],
      "metadata": {
        "colab": {
          "base_uri": "https://localhost:8080/",
          "height": 313
        },
        "id": "oCzDU5TVaYt2",
        "outputId": "09ca06c4-1476-4682-871d-f073bedd048e"
      },
      "execution_count": 3,
      "outputs": [
        {
          "output_type": "display_data",
          "data": {
            "text/plain": [
              "   artisan_id                  name gender  age        craft_type  \\\n",
              "0           1          Anika Bhagat   Male   27    Carpet Weaving   \n",
              "1           2  Jayant Krishnamurthy   Male   47  Channapatna Toys   \n",
              "2           3            Tanya Keer  Other   40       Shell Craft   \n",
              "3           4            Saira Lata  Other   22         Kalamkari   \n",
              "4           5          Zeeshan Saha   Male   32           Pottery   \n",
              "\n",
              "           state     district          village  languages_spoken  \\\n",
              "0  Uttar Pradesh     Varanasi         Amritsar    English, Hindi   \n",
              "1  Uttar Pradesh       Kanpur          Deoghar    English, Hindi   \n",
              "2          Bihar        Patna     Bihar Sharif   Hindi, Manipuri   \n",
              "3         Kerala    Alappuzha  Rajpur Sonarpur           English   \n",
              "4     Tamil Nadu  Kanchipuram            Dhule  Bengali, English   \n",
              "\n",
              "                      contact_email  contact_phone contact_phone_boolean  \\\n",
              "0       anikabhagat4017@handmade.in   9.167030e+11                   Yes   \n",
              "1  jayantkrishnamurthy9395@mail.com   9.180480e+11                   Yes   \n",
              "2         tanyakeer9774@example.com   9.198230e+11                   Yes   \n",
              "3            sairalata1201@mail.com   9.191060e+11                   Yes   \n",
              "4         zeeshansaha4714@crafts.in   9.181250e+11                    No   \n",
              "\n",
              "      govt_artisan_id artisan_cluster_code  \n",
              "0  ODOP-2025-UT-00001       CL-VAR-CAR-001  \n",
              "1  KVIC-2025-UT-00002       CL-KAN-CHA-002  \n",
              "2  KVIC-2025-BI-00003       CL-PAT-SHE-003  \n",
              "3   PMV-2025-KE-00004       CL-ALA-KAL-004  \n",
              "4  KVIC-2025-TA-00005       CL-KAN-POT-005  "
            ],
            "text/html": [
              "\n",
              "  <div id=\"df-7f01d74b-a597-4057-9e8c-9f7b8a9bb73a\" class=\"colab-df-container\">\n",
              "    <div>\n",
              "<style scoped>\n",
              "    .dataframe tbody tr th:only-of-type {\n",
              "        vertical-align: middle;\n",
              "    }\n",
              "\n",
              "    .dataframe tbody tr th {\n",
              "        vertical-align: top;\n",
              "    }\n",
              "\n",
              "    .dataframe thead th {\n",
              "        text-align: right;\n",
              "    }\n",
              "</style>\n",
              "<table border=\"1\" class=\"dataframe\">\n",
              "  <thead>\n",
              "    <tr style=\"text-align: right;\">\n",
              "      <th></th>\n",
              "      <th>artisan_id</th>\n",
              "      <th>name</th>\n",
              "      <th>gender</th>\n",
              "      <th>age</th>\n",
              "      <th>craft_type</th>\n",
              "      <th>state</th>\n",
              "      <th>district</th>\n",
              "      <th>village</th>\n",
              "      <th>languages_spoken</th>\n",
              "      <th>contact_email</th>\n",
              "      <th>contact_phone</th>\n",
              "      <th>contact_phone_boolean</th>\n",
              "      <th>govt_artisan_id</th>\n",
              "      <th>artisan_cluster_code</th>\n",
              "    </tr>\n",
              "  </thead>\n",
              "  <tbody>\n",
              "    <tr>\n",
              "      <th>0</th>\n",
              "      <td>1</td>\n",
              "      <td>Anika Bhagat</td>\n",
              "      <td>Male</td>\n",
              "      <td>27</td>\n",
              "      <td>Carpet Weaving</td>\n",
              "      <td>Uttar Pradesh</td>\n",
              "      <td>Varanasi</td>\n",
              "      <td>Amritsar</td>\n",
              "      <td>English, Hindi</td>\n",
              "      <td>anikabhagat4017@handmade.in</td>\n",
              "      <td>9.167030e+11</td>\n",
              "      <td>Yes</td>\n",
              "      <td>ODOP-2025-UT-00001</td>\n",
              "      <td>CL-VAR-CAR-001</td>\n",
              "    </tr>\n",
              "    <tr>\n",
              "      <th>1</th>\n",
              "      <td>2</td>\n",
              "      <td>Jayant Krishnamurthy</td>\n",
              "      <td>Male</td>\n",
              "      <td>47</td>\n",
              "      <td>Channapatna Toys</td>\n",
              "      <td>Uttar Pradesh</td>\n",
              "      <td>Kanpur</td>\n",
              "      <td>Deoghar</td>\n",
              "      <td>English, Hindi</td>\n",
              "      <td>jayantkrishnamurthy9395@mail.com</td>\n",
              "      <td>9.180480e+11</td>\n",
              "      <td>Yes</td>\n",
              "      <td>KVIC-2025-UT-00002</td>\n",
              "      <td>CL-KAN-CHA-002</td>\n",
              "    </tr>\n",
              "    <tr>\n",
              "      <th>2</th>\n",
              "      <td>3</td>\n",
              "      <td>Tanya Keer</td>\n",
              "      <td>Other</td>\n",
              "      <td>40</td>\n",
              "      <td>Shell Craft</td>\n",
              "      <td>Bihar</td>\n",
              "      <td>Patna</td>\n",
              "      <td>Bihar Sharif</td>\n",
              "      <td>Hindi, Manipuri</td>\n",
              "      <td>tanyakeer9774@example.com</td>\n",
              "      <td>9.198230e+11</td>\n",
              "      <td>Yes</td>\n",
              "      <td>KVIC-2025-BI-00003</td>\n",
              "      <td>CL-PAT-SHE-003</td>\n",
              "    </tr>\n",
              "    <tr>\n",
              "      <th>3</th>\n",
              "      <td>4</td>\n",
              "      <td>Saira Lata</td>\n",
              "      <td>Other</td>\n",
              "      <td>22</td>\n",
              "      <td>Kalamkari</td>\n",
              "      <td>Kerala</td>\n",
              "      <td>Alappuzha</td>\n",
              "      <td>Rajpur Sonarpur</td>\n",
              "      <td>English</td>\n",
              "      <td>sairalata1201@mail.com</td>\n",
              "      <td>9.191060e+11</td>\n",
              "      <td>Yes</td>\n",
              "      <td>PMV-2025-KE-00004</td>\n",
              "      <td>CL-ALA-KAL-004</td>\n",
              "    </tr>\n",
              "    <tr>\n",
              "      <th>4</th>\n",
              "      <td>5</td>\n",
              "      <td>Zeeshan Saha</td>\n",
              "      <td>Male</td>\n",
              "      <td>32</td>\n",
              "      <td>Pottery</td>\n",
              "      <td>Tamil Nadu</td>\n",
              "      <td>Kanchipuram</td>\n",
              "      <td>Dhule</td>\n",
              "      <td>Bengali, English</td>\n",
              "      <td>zeeshansaha4714@crafts.in</td>\n",
              "      <td>9.181250e+11</td>\n",
              "      <td>No</td>\n",
              "      <td>KVIC-2025-TA-00005</td>\n",
              "      <td>CL-KAN-POT-005</td>\n",
              "    </tr>\n",
              "  </tbody>\n",
              "</table>\n",
              "</div>\n",
              "    <div class=\"colab-df-buttons\">\n",
              "\n",
              "  <div class=\"colab-df-container\">\n",
              "    <button class=\"colab-df-convert\" onclick=\"convertToInteractive('df-7f01d74b-a597-4057-9e8c-9f7b8a9bb73a')\"\n",
              "            title=\"Convert this dataframe to an interactive table.\"\n",
              "            style=\"display:none;\">\n",
              "\n",
              "  <svg xmlns=\"http://www.w3.org/2000/svg\" height=\"24px\" viewBox=\"0 -960 960 960\">\n",
              "    <path d=\"M120-120v-720h720v720H120Zm60-500h600v-160H180v160Zm220 220h160v-160H400v160Zm0 220h160v-160H400v160ZM180-400h160v-160H180v160Zm440 0h160v-160H620v160ZM180-180h160v-160H180v160Zm440 0h160v-160H620v160Z\"/>\n",
              "  </svg>\n",
              "    </button>\n",
              "\n",
              "  <style>\n",
              "    .colab-df-container {\n",
              "      display:flex;\n",
              "      gap: 12px;\n",
              "    }\n",
              "\n",
              "    .colab-df-convert {\n",
              "      background-color: #E8F0FE;\n",
              "      border: none;\n",
              "      border-radius: 50%;\n",
              "      cursor: pointer;\n",
              "      display: none;\n",
              "      fill: #1967D2;\n",
              "      height: 32px;\n",
              "      padding: 0 0 0 0;\n",
              "      width: 32px;\n",
              "    }\n",
              "\n",
              "    .colab-df-convert:hover {\n",
              "      background-color: #E2EBFA;\n",
              "      box-shadow: 0px 1px 2px rgba(60, 64, 67, 0.3), 0px 1px 3px 1px rgba(60, 64, 67, 0.15);\n",
              "      fill: #174EA6;\n",
              "    }\n",
              "\n",
              "    .colab-df-buttons div {\n",
              "      margin-bottom: 4px;\n",
              "    }\n",
              "\n",
              "    [theme=dark] .colab-df-convert {\n",
              "      background-color: #3B4455;\n",
              "      fill: #D2E3FC;\n",
              "    }\n",
              "\n",
              "    [theme=dark] .colab-df-convert:hover {\n",
              "      background-color: #434B5C;\n",
              "      box-shadow: 0px 1px 3px 1px rgba(0, 0, 0, 0.15);\n",
              "      filter: drop-shadow(0px 1px 2px rgba(0, 0, 0, 0.3));\n",
              "      fill: #FFFFFF;\n",
              "    }\n",
              "  </style>\n",
              "\n",
              "    <script>\n",
              "      const buttonEl =\n",
              "        document.querySelector('#df-7f01d74b-a597-4057-9e8c-9f7b8a9bb73a button.colab-df-convert');\n",
              "      buttonEl.style.display =\n",
              "        google.colab.kernel.accessAllowed ? 'block' : 'none';\n",
              "\n",
              "      async function convertToInteractive(key) {\n",
              "        const element = document.querySelector('#df-7f01d74b-a597-4057-9e8c-9f7b8a9bb73a');\n",
              "        const dataTable =\n",
              "          await google.colab.kernel.invokeFunction('convertToInteractive',\n",
              "                                                    [key], {});\n",
              "        if (!dataTable) return;\n",
              "\n",
              "        const docLinkHtml = 'Like what you see? Visit the ' +\n",
              "          '<a target=\"_blank\" href=https://colab.research.google.com/notebooks/data_table.ipynb>data table notebook</a>'\n",
              "          + ' to learn more about interactive tables.';\n",
              "        element.innerHTML = '';\n",
              "        dataTable['output_type'] = 'display_data';\n",
              "        await google.colab.output.renderOutput(dataTable, element);\n",
              "        const docLink = document.createElement('div');\n",
              "        docLink.innerHTML = docLinkHtml;\n",
              "        element.appendChild(docLink);\n",
              "      }\n",
              "    </script>\n",
              "  </div>\n",
              "\n",
              "\n",
              "    <div id=\"df-194376b9-e643-4696-a362-b1b6a5c4f601\">\n",
              "      <button class=\"colab-df-quickchart\" onclick=\"quickchart('df-194376b9-e643-4696-a362-b1b6a5c4f601')\"\n",
              "                title=\"Suggest charts\"\n",
              "                style=\"display:none;\">\n",
              "\n",
              "<svg xmlns=\"http://www.w3.org/2000/svg\" height=\"24px\"viewBox=\"0 0 24 24\"\n",
              "     width=\"24px\">\n",
              "    <g>\n",
              "        <path d=\"M19 3H5c-1.1 0-2 .9-2 2v14c0 1.1.9 2 2 2h14c1.1 0 2-.9 2-2V5c0-1.1-.9-2-2-2zM9 17H7v-7h2v7zm4 0h-2V7h2v10zm4 0h-2v-4h2v4z\"/>\n",
              "    </g>\n",
              "</svg>\n",
              "      </button>\n",
              "\n",
              "<style>\n",
              "  .colab-df-quickchart {\n",
              "      --bg-color: #E8F0FE;\n",
              "      --fill-color: #1967D2;\n",
              "      --hover-bg-color: #E2EBFA;\n",
              "      --hover-fill-color: #174EA6;\n",
              "      --disabled-fill-color: #AAA;\n",
              "      --disabled-bg-color: #DDD;\n",
              "  }\n",
              "\n",
              "  [theme=dark] .colab-df-quickchart {\n",
              "      --bg-color: #3B4455;\n",
              "      --fill-color: #D2E3FC;\n",
              "      --hover-bg-color: #434B5C;\n",
              "      --hover-fill-color: #FFFFFF;\n",
              "      --disabled-bg-color: #3B4455;\n",
              "      --disabled-fill-color: #666;\n",
              "  }\n",
              "\n",
              "  .colab-df-quickchart {\n",
              "    background-color: var(--bg-color);\n",
              "    border: none;\n",
              "    border-radius: 50%;\n",
              "    cursor: pointer;\n",
              "    display: none;\n",
              "    fill: var(--fill-color);\n",
              "    height: 32px;\n",
              "    padding: 0;\n",
              "    width: 32px;\n",
              "  }\n",
              "\n",
              "  .colab-df-quickchart:hover {\n",
              "    background-color: var(--hover-bg-color);\n",
              "    box-shadow: 0 1px 2px rgba(60, 64, 67, 0.3), 0 1px 3px 1px rgba(60, 64, 67, 0.15);\n",
              "    fill: var(--button-hover-fill-color);\n",
              "  }\n",
              "\n",
              "  .colab-df-quickchart-complete:disabled,\n",
              "  .colab-df-quickchart-complete:disabled:hover {\n",
              "    background-color: var(--disabled-bg-color);\n",
              "    fill: var(--disabled-fill-color);\n",
              "    box-shadow: none;\n",
              "  }\n",
              "\n",
              "  .colab-df-spinner {\n",
              "    border: 2px solid var(--fill-color);\n",
              "    border-color: transparent;\n",
              "    border-bottom-color: var(--fill-color);\n",
              "    animation:\n",
              "      spin 1s steps(1) infinite;\n",
              "  }\n",
              "\n",
              "  @keyframes spin {\n",
              "    0% {\n",
              "      border-color: transparent;\n",
              "      border-bottom-color: var(--fill-color);\n",
              "      border-left-color: var(--fill-color);\n",
              "    }\n",
              "    20% {\n",
              "      border-color: transparent;\n",
              "      border-left-color: var(--fill-color);\n",
              "      border-top-color: var(--fill-color);\n",
              "    }\n",
              "    30% {\n",
              "      border-color: transparent;\n",
              "      border-left-color: var(--fill-color);\n",
              "      border-top-color: var(--fill-color);\n",
              "      border-right-color: var(--fill-color);\n",
              "    }\n",
              "    40% {\n",
              "      border-color: transparent;\n",
              "      border-right-color: var(--fill-color);\n",
              "      border-top-color: var(--fill-color);\n",
              "    }\n",
              "    60% {\n",
              "      border-color: transparent;\n",
              "      border-right-color: var(--fill-color);\n",
              "    }\n",
              "    80% {\n",
              "      border-color: transparent;\n",
              "      border-right-color: var(--fill-color);\n",
              "      border-bottom-color: var(--fill-color);\n",
              "    }\n",
              "    90% {\n",
              "      border-color: transparent;\n",
              "      border-bottom-color: var(--fill-color);\n",
              "    }\n",
              "  }\n",
              "</style>\n",
              "\n",
              "      <script>\n",
              "        async function quickchart(key) {\n",
              "          const quickchartButtonEl =\n",
              "            document.querySelector('#' + key + ' button');\n",
              "          quickchartButtonEl.disabled = true;  // To prevent multiple clicks.\n",
              "          quickchartButtonEl.classList.add('colab-df-spinner');\n",
              "          try {\n",
              "            const charts = await google.colab.kernel.invokeFunction(\n",
              "                'suggestCharts', [key], {});\n",
              "          } catch (error) {\n",
              "            console.error('Error during call to suggestCharts:', error);\n",
              "          }\n",
              "          quickchartButtonEl.classList.remove('colab-df-spinner');\n",
              "          quickchartButtonEl.classList.add('colab-df-quickchart-complete');\n",
              "        }\n",
              "        (() => {\n",
              "          let quickchartButtonEl =\n",
              "            document.querySelector('#df-194376b9-e643-4696-a362-b1b6a5c4f601 button');\n",
              "          quickchartButtonEl.style.display =\n",
              "            google.colab.kernel.accessAllowed ? 'block' : 'none';\n",
              "        })();\n",
              "      </script>\n",
              "    </div>\n",
              "\n",
              "    </div>\n",
              "  </div>\n"
            ],
            "application/vnd.google.colaboratory.intrinsic+json": {
              "type": "dataframe",
              "summary": "{\n  \"name\": \"display(df\",\n  \"rows\": 5,\n  \"fields\": [\n    {\n      \"column\": \"artisan_id\",\n      \"properties\": {\n        \"dtype\": \"number\",\n        \"std\": 1,\n        \"min\": 1,\n        \"max\": 5,\n        \"num_unique_values\": 5,\n        \"samples\": [\n          2,\n          5,\n          3\n        ],\n        \"semantic_type\": \"\",\n        \"description\": \"\"\n      }\n    },\n    {\n      \"column\": \"name\",\n      \"properties\": {\n        \"dtype\": \"string\",\n        \"num_unique_values\": 5,\n        \"samples\": [\n          \"Jayant Krishnamurthy\",\n          \"Zeeshan Saha\",\n          \"Tanya Keer\"\n        ],\n        \"semantic_type\": \"\",\n        \"description\": \"\"\n      }\n    },\n    {\n      \"column\": \"gender\",\n      \"properties\": {\n        \"dtype\": \"category\",\n        \"num_unique_values\": 2,\n        \"samples\": [\n          \"Other\",\n          \"Male\"\n        ],\n        \"semantic_type\": \"\",\n        \"description\": \"\"\n      }\n    },\n    {\n      \"column\": \"age\",\n      \"properties\": {\n        \"dtype\": \"number\",\n        \"std\": 10,\n        \"min\": 22,\n        \"max\": 47,\n        \"num_unique_values\": 5,\n        \"samples\": [\n          47,\n          32\n        ],\n        \"semantic_type\": \"\",\n        \"description\": \"\"\n      }\n    },\n    {\n      \"column\": \"craft_type\",\n      \"properties\": {\n        \"dtype\": \"string\",\n        \"num_unique_values\": 5,\n        \"samples\": [\n          \"Channapatna Toys\",\n          \"Pottery\"\n        ],\n        \"semantic_type\": \"\",\n        \"description\": \"\"\n      }\n    },\n    {\n      \"column\": \"state\",\n      \"properties\": {\n        \"dtype\": \"string\",\n        \"num_unique_values\": 4,\n        \"samples\": [\n          \"Bihar\",\n          \"Tamil Nadu\"\n        ],\n        \"semantic_type\": \"\",\n        \"description\": \"\"\n      }\n    },\n    {\n      \"column\": \"district\",\n      \"properties\": {\n        \"dtype\": \"string\",\n        \"num_unique_values\": 5,\n        \"samples\": [\n          \"Kanpur\",\n          \"Kanchipuram\"\n        ],\n        \"semantic_type\": \"\",\n        \"description\": \"\"\n      }\n    },\n    {\n      \"column\": \"village\",\n      \"properties\": {\n        \"dtype\": \"string\",\n        \"num_unique_values\": 5,\n        \"samples\": [\n          \"Deoghar\",\n          \"Dhule\"\n        ],\n        \"semantic_type\": \"\",\n        \"description\": \"\"\n      }\n    },\n    {\n      \"column\": \"languages_spoken\",\n      \"properties\": {\n        \"dtype\": \"string\",\n        \"num_unique_values\": 4,\n        \"samples\": [\n          \"Hindi, Manipuri\",\n          \"Bengali, English\"\n        ],\n        \"semantic_type\": \"\",\n        \"description\": \"\"\n      }\n    },\n    {\n      \"column\": \"contact_email\",\n      \"properties\": {\n        \"dtype\": \"string\",\n        \"num_unique_values\": 5,\n        \"samples\": [\n          \"jayantkrishnamurthy9395@mail.com\",\n          \"zeeshansaha4714@crafts.in\"\n        ],\n        \"semantic_type\": \"\",\n        \"description\": \"\"\n      }\n    },\n    {\n      \"column\": \"contact_phone\",\n      \"properties\": {\n        \"dtype\": \"number\",\n        \"std\": 1182697974.9707868,\n        \"min\": 916703000000.0,\n        \"max\": 919823000000.0,\n        \"num_unique_values\": 5,\n        \"samples\": [\n          918048000000.0,\n          918125000000.0\n        ],\n        \"semantic_type\": \"\",\n        \"description\": \"\"\n      }\n    },\n    {\n      \"column\": \"contact_phone_boolean\",\n      \"properties\": {\n        \"dtype\": \"category\",\n        \"num_unique_values\": 2,\n        \"samples\": [\n          \"No\",\n          \"Yes\"\n        ],\n        \"semantic_type\": \"\",\n        \"description\": \"\"\n      }\n    },\n    {\n      \"column\": \"govt_artisan_id\",\n      \"properties\": {\n        \"dtype\": \"string\",\n        \"num_unique_values\": 5,\n        \"samples\": [\n          \"KVIC-2025-UT-00002\",\n          \"KVIC-2025-TA-00005\"\n        ],\n        \"semantic_type\": \"\",\n        \"description\": \"\"\n      }\n    },\n    {\n      \"column\": \"artisan_cluster_code\",\n      \"properties\": {\n        \"dtype\": \"string\",\n        \"num_unique_values\": 5,\n        \"samples\": [\n          \"CL-KAN-CHA-002\",\n          \"CL-KAN-POT-005\"\n        ],\n        \"semantic_type\": \"\",\n        \"description\": \"\"\n      }\n    }\n  ]\n}"
            }
          },
          "metadata": {}
        }
      ]
    },
    {
      "cell_type": "code",
      "source": [
        "df.craft_type.unique()"
      ],
      "metadata": {
        "colab": {
          "base_uri": "https://localhost:8080/"
        },
        "id": "Y9bNeOmsad8o",
        "outputId": "ce532a47-dd7d-484c-f27c-92fa09803892"
      },
      "execution_count": 4,
      "outputs": [
        {
          "output_type": "execute_result",
          "data": {
            "text/plain": [
              "array(['Carpet Weaving', 'Channapatna Toys', 'Shell Craft', 'Kalamkari',\n",
              "       'Pottery', 'Rogan Art', 'Handloom Weaving', 'Sikki Grass',\n",
              "       'Blue Pottery', 'Bamboo & Cane', 'Tanjore Painting', 'Chikankari',\n",
              "       'Leather Craft', 'Terracotta', 'Bidriware', 'Lac Work',\n",
              "       'Block Printing', 'Jute Craft', 'Metalwork', 'Dokra (Bell Metal)',\n",
              "       'Pattachitra', 'Wood Carving', 'Madhubani Painting',\n",
              "       'Thanjavur Dolls', 'Banarasi Weaving', 'Zari/Zardozi',\n",
              "       'Silver Filigree', 'Warli Painting', 'Bandhani Tie-Dye',\n",
              "       'Coir Craft', 'Kutch Embroidery', 'Phulkari', 'Durrie Weaving',\n",
              "       'Stone Carving', 'Kundan Jewellery', 'Black Pottery',\n",
              "       'Paper Mache', 'Sandalwood Carving'], dtype=object)"
            ]
          },
          "metadata": {},
          "execution_count": 4
        }
      ]
    },
    {
      "cell_type": "code",
      "source": [
        "unique_crafts = sorted(df[\"craft_type\"].unique())\n",
        "unique_crafts[:10]\n"
      ],
      "metadata": {
        "colab": {
          "base_uri": "https://localhost:8080/"
        },
        "id": "ksW4Q8pLafgZ",
        "outputId": "2a07b96a-cb27-4aa5-ce7d-461aea83ba9c"
      },
      "execution_count": 5,
      "outputs": [
        {
          "output_type": "execute_result",
          "data": {
            "text/plain": [
              "['Bamboo & Cane',\n",
              " 'Banarasi Weaving',\n",
              " 'Bandhani Tie-Dye',\n",
              " 'Bidriware',\n",
              " 'Black Pottery',\n",
              " 'Block Printing',\n",
              " 'Blue Pottery',\n",
              " 'Carpet Weaving',\n",
              " 'Channapatna Toys',\n",
              " 'Chikankari']"
            ]
          },
          "metadata": {},
          "execution_count": 5
        }
      ]
    },
    {
      "cell_type": "code",
      "source": [
        "\n",
        "def get_artisans_by_craft(craft):\n",
        "    return df[df[\"craft_type\"] == craft][[\"name\", \"state\", \"district\", \"village\"]]\n"
      ],
      "metadata": {
        "id": "LjWI0bchah8M"
      },
      "execution_count": 6,
      "outputs": []
    },
    {
      "cell_type": "code",
      "source": [
        "import nbformat\n",
        "import os\n",
        "\n",
        "infile = \"Sorting-model.ipynb\"\n",
        "outfile = \"Sorting-model.ipynb\"\n",
        "\n",
        "# Check if the input file exists before trying to open it\n",
        "if not os.path.exists(infile):\n",
        "    print(f\"Error: Input file not found at {infile}\")\n",
        "else:\n",
        "    with open(infile, \"r\", encoding=\"utf-8\") as f:\n",
        "        nb = nbformat.read(f, as_version=4)\n",
        "\n",
        "    # If corrupted widgets metadata exists, remove it\n",
        "    if \"widgets\" in nb.get(\"metadata\", {}):\n",
        "        nb[\"metadata\"].pop(\"widgets\")\n",
        "\n",
        "    with open(outfile, \"w\", encoding=\"utf-8\") as f:\n",
        "        nbformat.write(nb, f)\n",
        "\n",
        "    print(f\"✅ Clean notebook saved as {outfile}\")"
      ],
      "metadata": {
        "colab": {
          "base_uri": "https://localhost:8080/"
        },
        "id": "cVBzOKMDgBIH",
        "outputId": "05e484a6-b66f-4de1-8659-1b6eeb7f85e4"
      },
      "execution_count": 7,
      "outputs": [
        {
          "output_type": "stream",
          "name": "stdout",
          "text": [
            "Error: Input file not found at Sorting-model.ipynb\n"
          ]
        }
      ]
    },
    {
      "cell_type": "code",
      "source": [
        "import nbformat\n",
        "import os\n",
        "\n",
        "# Use the correct path to the current notebook file\n",
        "infile = \"/content/Sorting-model.ipynb\"\n",
        "outfile = \"/content/Sorting-model.ipynb\" # Save back to the same file\n",
        "\n",
        "# Check if the input file exists before trying to open it\n",
        "if not os.path.exists(infile):\n",
        "    print(f\"Error: Input file not found at {infile}\")\n",
        "else:\n",
        "    with open(infile, \"r\", encoding=\"utf-8\") as f:\n",
        "        nb = nbformat.read(f, as_version=4)\n",
        "\n",
        "    # If corrupted widgets metadata exists, remove it\n",
        "    if \"widgets\" in nb.get(\"metadata\", {}):\n",
        "        nb[\"metadata\"].pop(\"widgets\")\n",
        "\n",
        "    with open(outfile, \"w\", encoding=\"utf-8\") as f:\n",
        "        nbformat.write(nb, f)\n",
        "\n",
        "    print(f\"✅ Clean notebook saved as {outfile}\")"
      ],
      "metadata": {
        "colab": {
          "base_uri": "https://localhost:8080/"
        },
        "id": "9TskKG0lNG4r",
        "outputId": "5e97d36d-0fc5-484f-cd5e-79452c2c3e14"
      },
      "execution_count": 12,
      "outputs": [
        {
          "output_type": "stream",
          "name": "stdout",
          "text": [
            "Error: Input file not found at /content/Sorting-model.ipynb\n"
          ]
        }
      ]
    },
    {
      "cell_type": "code",
      "source": [
        "import nbformat\n",
        "import os\n",
        "\n",
        "infile = \"/content/Sorting-model.ipynb\"\n",
        "outfile = \"/content/Sorting-model.ipynb\"\n",
        "\n",
        "if not os.path.exists(infile):\n",
        "    print(f\"Error: Input file not found at {infile}\")\n",
        "else:\n",
        "    with open(infile, \"r\", encoding=\"utf-8\") as f:\n",
        "        nb = nbformat.read(f, as_version=4)\n",
        "\n",
        "    # Iterate through all cells and remove widgets metadata from outputs\n",
        "    for cell in nb.cells:\n",
        "        if 'outputs' in cell:\n",
        "            for output in cell['outputs']:\n",
        "                if 'metadata' in output and 'widgets' in output['metadata']:\n",
        "                    del output['metadata']['widgets']\n",
        "\n",
        "    # Also remove top-level widgets metadata if it exists\n",
        "    if \"widgets\" in nb.get(\"metadata\", {}):\n",
        "        nb[\"metadata\"].pop(\"widgets\")\n",
        "\n",
        "    with open(outfile, \"w\", encoding=\"utf-8\") as f:\n",
        "        nbformat.write(nb, f)\n",
        "\n",
        "    print(f\"✅ Thoroughly cleaned notebook saved as {outfile}\")"
      ],
      "metadata": {
        "colab": {
          "base_uri": "https://localhost:8080/"
        },
        "id": "_BavfUR6Szg9",
        "outputId": "9f5800e2-569e-40f3-b34d-b8a18a9cf976"
      },
      "execution_count": 13,
      "outputs": [
        {
          "output_type": "stream",
          "name": "stdout",
          "text": [
            "Error: Input file not found at /content/Sorting-model.ipynb\n"
          ]
        }
      ]
    },
    {
      "cell_type": "code",
      "source": [
        "import ipywidgets as widgets\n",
        "from IPython.display import display\n",
        "\n",
        "dropdown = widgets.Dropdown(\n",
        "    options=unique_crafts,\n",
        "    description=\"Craft:\",\n",
        "    style={'description_width': 'initial'}\n",
        ")\n",
        "\n",
        "output = widgets.Output()\n",
        "\n",
        "def on_change(change):\n",
        "    with output:\n",
        "        output.clear_output()\n",
        "        display(get_artisans_by_craft(change['new']))\n",
        "\n",
        "\n",
        "dropdown.observe(on_change, names='value')\n",
        "\n",
        "display(dropdown)\n",
        "display(output)"
      ],
      "metadata": {
        "colab": {
          "base_uri": "https://localhost:8080/",
          "height": 731,
          "referenced_widgets": [
            "bcf98078016942558e7680a41cab2317",
            "4f917d3c5f48474185d70f2cbb40ad24",
            "5e7a0a9d7ca94c0d882afb620b166ed2",
            "2bb1d9c599504ce4a2cd68aed6317a7e",
            "927a5769c0ac463188fb0bc4f303824c"
          ]
        },
        "id": "1Mj4Nt1uakac",
        "outputId": "6141c669-5503-42ca-b241-8d008620e9a1"
      },
      "execution_count": 8,
      "outputs": [
        {
          "output_type": "display_data",
          "data": {
            "text/plain": [
              "Dropdown(description='Craft:', options=('Bamboo & Cane', 'Banarasi Weaving', 'Bandhani Tie-Dye', 'Bidriware', …"
            ],
            "application/vnd.jupyter.widget-view+json": {
              "version_major": 2,
              "version_minor": 0,
              "model_id": "bcf98078016942558e7680a41cab2317"
            }
          },
          "metadata": {}
        },
        {
          "output_type": "display_data",
          "data": {
            "text/plain": [
              "Output()"
            ],
            "application/vnd.jupyter.widget-view+json": {
              "version_major": 2,
              "version_minor": 0,
              "model_id": "2bb1d9c599504ce4a2cd68aed6317a7e"
            }
          },
          "metadata": {}
        },
        {
          "output_type": "stream",
          "name": "stdout",
          "text": [
            "No charts were generated by quickchart\n"
          ]
        }
      ]
    }
  ]
}